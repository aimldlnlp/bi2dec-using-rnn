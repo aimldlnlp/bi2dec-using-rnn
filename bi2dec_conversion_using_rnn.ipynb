{
  "nbformat": 4,
  "nbformat_minor": 0,
  "metadata": {
    "colab": {
      "provenance": [],
      "authorship_tag": "ABX9TyPhj4+48s3TL7SP8PVZKf71",
      "include_colab_link": true
    },
    "kernelspec": {
      "name": "python3",
      "display_name": "Python 3"
    },
    "language_info": {
      "name": "python"
    }
  },
  "cells": [
    {
      "cell_type": "markdown",
      "metadata": {
        "id": "view-in-github",
        "colab_type": "text"
      },
      "source": [
        "<a href=\"https://colab.research.google.com/github/aimldlnlp/bi2dec-using-rnn/blob/main/bi2dec_conversion_using_rnn.ipynb\" target=\"_parent\"><img src=\"https://colab.research.google.com/assets/colab-badge.svg\" alt=\"Open In Colab\"/></a>"
      ]
    },
    {
      "cell_type": "markdown",
      "source": [
        "### Setup"
      ],
      "metadata": {
        "id": "GM4hlQQqxspd"
      }
    },
    {
      "cell_type": "code",
      "execution_count": 31,
      "metadata": {
        "id": "ePn3M4ijQyw5"
      },
      "outputs": [],
      "source": [
        "import os\n",
        "\n",
        "os.environ['TF_CPP_MIN_LOG_LEVEL'] = '2'\n",
        "\n",
        "import tensorflow as tf\n",
        "from tensorflow import keras\n",
        "from tensorflow.keras import layers\n",
        "from tensorflow.keras.datasets import cifar10\n",
        "import numpy as np\n",
        "import matplotlib.pyplot as plt"
      ]
    },
    {
      "cell_type": "markdown",
      "source": [
        "### Data Generation and Preprocessing"
      ],
      "metadata": {
        "id": "eUzWzjwRxx-0"
      }
    },
    {
      "cell_type": "code",
      "source": [
        "def bin2int(bin_list):\n",
        "  bin_str = \"\"\n",
        "  for k in bin_list:\n",
        "    bin_str += str(int(k))\n",
        "  return int(bin_str,2)\n",
        "\n",
        "def dataset(num, bin_len):\n",
        "  x = np.zeros((num, bin_len))\n",
        "  y = np.zeros((num))\n",
        "\n",
        "  for i in range(num):\n",
        "    x[i] = np.round(np.random.rand(bin_len)).astype(int)\n",
        "    y[i] = bin2int(x[i])\n",
        "\n",
        "  return x, y"
      ],
      "metadata": {
        "id": "us3F5ZTHRFy2"
      },
      "execution_count": 32,
      "outputs": []
    },
    {
      "cell_type": "markdown",
      "source": [
        "### Model Definition"
      ],
      "metadata": {
        "id": "SllipidTx_9L"
      }
    },
    {
      "cell_type": "code",
      "source": [
        "x_len = 8\n",
        "no_of_samples = 1000\n",
        "lr = 0.01\n",
        "training_steps= 50000\n",
        "display_step = 5000\n",
        "\n",
        "n_input = x_len\n",
        "timestep = 1\n",
        "n_hidden = 16\n",
        "n_output = 1\n",
        "\n",
        "trainX, trainY = dataset(no_of_samples, x_len)\n",
        "testX, testY = dataset(20, x_len)\n",
        "\n",
        "tf.compat.v1.disable_eager_execution()\n",
        "\n",
        "X = tf.compat.v1.placeholder(tf.float32, [None, timestep, n_input])\n",
        "Y = tf.compat.v1.placeholder(tf.float32, [None, n_output])\n",
        "\n",
        "weights = tf.Variable(tf.random.normal([n_hidden, n_output]))\n",
        "bias = tf.Variable(tf.random.normal([n_output]))"
      ],
      "metadata": {
        "id": "-Ltw4wWgSIZp"
      },
      "execution_count": 33,
      "outputs": []
    },
    {
      "cell_type": "code",
      "source": [
        "def RNN(x, weights, bias):\n",
        "  x = tf.reshape(x, [-1, timestep, n_input])\n",
        "  lstm_layer = layers.LSTM(n_hidden)\n",
        "  outputs = lstm_layer(x)\n",
        "  return tf.matmul(outputs, weights) + bias"
      ],
      "metadata": {
        "id": "gmb_dKfuUoUU"
      },
      "execution_count": 34,
      "outputs": []
    },
    {
      "cell_type": "markdown",
      "source": [
        "### Training and Evaluation"
      ],
      "metadata": {
        "id": "CDprsGBeyGe5"
      }
    },
    {
      "cell_type": "code",
      "source": [
        "logits = RNN(X, weights, bias)\n",
        "\n",
        "trainX = np.reshape(trainX, [-1, timestep, n_input])\n",
        "trainY = np.reshape(trainY, [-1, n_output])\n",
        "\n",
        "testX = np.reshape(testX, [-1, timestep, n_input])\n",
        "testY = np.reshape(testY, [-1, n_output])\n",
        "\n",
        "loss = tf.reduce_mean(tf.square(logits - Y))\n",
        "optimizer = tf.compat.v1.train.RMSPropOptimizer(learning_rate=lr)\n",
        "train = optimizer.minimize(loss)"
      ],
      "metadata": {
        "colab": {
          "base_uri": "https://localhost:8080/"
        },
        "id": "HU0D3rDWV7n7",
        "outputId": "8a1768d2-e911-49b4-8632-3e29519e018e"
      },
      "execution_count": 41,
      "outputs": [
        {
          "output_type": "stream",
          "name": "stderr",
          "text": [
            "WARNING:tensorflow:From /usr/local/lib/python3.10/dist-packages/tensorflow/python/training/rmsprop.py:188: calling Ones.__init__ (from tensorflow.python.ops.init_ops) with dtype is deprecated and will be removed in a future version.\n",
            "Instructions for updating:\n",
            "Call initializer instance with the dtype argument instead of passing it to the constructor\n"
          ]
        }
      ]
    },
    {
      "cell_type": "code",
      "source": [
        "with tf.compat.v1.Session() as sess:\n",
        "  sess.run(tf.compat.v1.global_variables_initializer())\n",
        "  for step in range(training_steps):\n",
        "    _, _loss = sess.run([train, loss], feed_dict={X: trainX, Y: trainY})\n",
        "    if (step + 1) % display_step == 0:\n",
        "      print(\"Step:\", '%04d' % (step + 1), \"loss=\", \"{:.9f}\".format(_loss))\n",
        "\n",
        "    # print(\"Optimization Finished!\")\n",
        "\n",
        "  result = sess.run(logits, feed_dict={X: testX})\n",
        "  result = sess.run(tf.round(result))\n",
        "\n",
        "  print(\"Real \\t Guess\")\n",
        "  for i in range(20):\n",
        "    if testY[i] == result[i]:\n",
        "      print(\"True\")\n",
        "    else:\n",
        "      print(\"False\")\n",
        "      print(testY[i], ' -> ', result[i])"
      ],
      "metadata": {
        "colab": {
          "base_uri": "https://localhost:8080/"
        },
        "collapsed": true,
        "id": "AIO5gsTQWWLO",
        "outputId": "713bff86-7877-4eae-d860-aad0e10ad617"
      },
      "execution_count": 50,
      "outputs": [
        {
          "output_type": "stream",
          "name": "stdout",
          "text": [
            "Step: 5000 loss= 0.504598498\n",
            "Step: 10000 loss= 0.105137564\n",
            "Step: 15000 loss= 0.079905272\n",
            "Step: 20000 loss= 0.071498051\n",
            "Step: 25000 loss= 0.088098630\n",
            "Step: 30000 loss= 0.055011015\n",
            "Step: 35000 loss= 0.097597003\n",
            "Step: 40000 loss= 0.108191825\n",
            "Step: 45000 loss= 0.043241143\n",
            "Step: 50000 loss= 0.049219634\n",
            "Real \t Guess\n",
            "True\n",
            "True\n",
            "True\n",
            "True\n",
            "True\n",
            "True\n",
            "True\n",
            "True\n",
            "True\n",
            "True\n",
            "True\n",
            "True\n",
            "True\n",
            "True\n",
            "True\n",
            "True\n",
            "True\n",
            "True\n",
            "True\n",
            "True\n"
          ]
        }
      ]
    }
  ]
}